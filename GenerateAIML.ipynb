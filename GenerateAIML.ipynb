{
  "nbformat": 4,
  "nbformat_minor": 0,
  "metadata": {
    "colab": {
      "name": "GenerateAIML.ipynb",
      "provenance": [],
      "collapsed_sections": [
        "GNuUI6_5U5Se",
        "QWqABO53xIbC"
      ],
      "toc_visible": true,
      "authorship_tag": "ABX9TyOVbs9Nj3+UXuAvrMIeROAN",
      "include_colab_link": true
    },
    "kernelspec": {
      "name": "python3",
      "display_name": "Python 3"
    }
  },
  "cells": [
    {
      "cell_type": "markdown",
      "metadata": {
        "id": "view-in-github",
        "colab_type": "text"
      },
      "source": [
        "<a href=\"https://colab.research.google.com/github/aesaied/AIMLGenerator/blob/master/GenerateAIML.ipynb\" target=\"_parent\"><img src=\"https://colab.research.google.com/assets/colab-badge.svg\" alt=\"Open In Colab\"/></a>"
      ]
    },
    {
      "cell_type": "markdown",
      "metadata": {
        "id": "d1mr4_YdUHu2",
        "colab_type": "text"
      },
      "source": [
        "#Install  Packages"
      ]
    },
    {
      "cell_type": "markdown",
      "metadata": {
        "id": "GNuUI6_5U5Se",
        "colab_type": "text"
      },
      "source": [
        "# Import Packages and Load Data"
      ]
    },
    {
      "cell_type": "markdown",
      "metadata": {
        "id": "Ysr5dHAyt4iJ",
        "colab_type": "text"
      },
      "source": [
        "Install  required libraries"
      ]
    },
    {
      "cell_type": "code",
      "metadata": {
        "id": "We4pacru_k_y",
        "colab_type": "code",
        "colab": {
          "base_uri": "https://localhost:8080/"
        },
        "outputId": "a01403ed-4153-4673-ed06-44ed5eaea4e9"
      },
      "source": [
        "%pip install Spacy\n",
        "%pip install https://github.com/explosion/spacy-models/releases/download/en_core_web_sm-2.3.1/en_core_web_sm-2.3.1.tar.gz"
      ],
      "execution_count": null,
      "outputs": [
        {
          "output_type": "stream",
          "text": [
            "Requirement already satisfied: Spacy in /usr/local/lib/python3.6/dist-packages (2.2.4)\n",
            "Requirement already satisfied: requests<3.0.0,>=2.13.0 in /usr/local/lib/python3.6/dist-packages (from Spacy) (2.23.0)\n",
            "Requirement already satisfied: preshed<3.1.0,>=3.0.2 in /usr/local/lib/python3.6/dist-packages (from Spacy) (3.0.2)\n",
            "Requirement already satisfied: thinc==7.4.0 in /usr/local/lib/python3.6/dist-packages (from Spacy) (7.4.0)\n",
            "Requirement already satisfied: cymem<2.1.0,>=2.0.2 in /usr/local/lib/python3.6/dist-packages (from Spacy) (2.0.3)\n",
            "Requirement already satisfied: wasabi<1.1.0,>=0.4.0 in /usr/local/lib/python3.6/dist-packages (from Spacy) (0.7.1)\n",
            "Requirement already satisfied: catalogue<1.1.0,>=0.0.7 in /usr/local/lib/python3.6/dist-packages (from Spacy) (1.0.0)\n",
            "Requirement already satisfied: numpy>=1.15.0 in /usr/local/lib/python3.6/dist-packages (from Spacy) (1.18.5)\n",
            "Requirement already satisfied: setuptools in /usr/local/lib/python3.6/dist-packages (from Spacy) (49.6.0)\n",
            "Requirement already satisfied: murmurhash<1.1.0,>=0.28.0 in /usr/local/lib/python3.6/dist-packages (from Spacy) (1.0.2)\n",
            "Requirement already satisfied: srsly<1.1.0,>=1.0.2 in /usr/local/lib/python3.6/dist-packages (from Spacy) (1.0.2)\n",
            "Requirement already satisfied: blis<0.5.0,>=0.4.0 in /usr/local/lib/python3.6/dist-packages (from Spacy) (0.4.1)\n",
            "Requirement already satisfied: tqdm<5.0.0,>=4.38.0 in /usr/local/lib/python3.6/dist-packages (from Spacy) (4.41.1)\n",
            "Requirement already satisfied: plac<1.2.0,>=0.9.6 in /usr/local/lib/python3.6/dist-packages (from Spacy) (1.1.3)\n",
            "Requirement already satisfied: certifi>=2017.4.17 in /usr/local/lib/python3.6/dist-packages (from requests<3.0.0,>=2.13.0->Spacy) (2020.6.20)\n",
            "Requirement already satisfied: chardet<4,>=3.0.2 in /usr/local/lib/python3.6/dist-packages (from requests<3.0.0,>=2.13.0->Spacy) (3.0.4)\n",
            "Requirement already satisfied: urllib3!=1.25.0,!=1.25.1,<1.26,>=1.21.1 in /usr/local/lib/python3.6/dist-packages (from requests<3.0.0,>=2.13.0->Spacy) (1.24.3)\n",
            "Requirement already satisfied: idna<3,>=2.5 in /usr/local/lib/python3.6/dist-packages (from requests<3.0.0,>=2.13.0->Spacy) (2.10)\n",
            "Requirement already satisfied: importlib-metadata>=0.20; python_version < \"3.8\" in /usr/local/lib/python3.6/dist-packages (from catalogue<1.1.0,>=0.0.7->Spacy) (1.7.0)\n",
            "Requirement already satisfied: zipp>=0.5 in /usr/local/lib/python3.6/dist-packages (from importlib-metadata>=0.20; python_version < \"3.8\"->catalogue<1.1.0,>=0.0.7->Spacy) (3.1.0)\n",
            "Collecting https://github.com/explosion/spacy-models/releases/download/en_core_web_sm-2.3.1/en_core_web_sm-2.3.1.tar.gz\n",
            "\u001b[?25l  Downloading https://github.com/explosion/spacy-models/releases/download/en_core_web_sm-2.3.1/en_core_web_sm-2.3.1.tar.gz (12.0MB)\n",
            "\u001b[K     |████████████████████████████████| 12.1MB 3.8MB/s \n",
            "\u001b[?25hCollecting spacy<2.4.0,>=2.3.0\n",
            "\u001b[?25l  Downloading https://files.pythonhosted.org/packages/10/b5/c7a92c7ce5d4b353b70b4b5b4385687206c8b230ddfe08746ab0fd310a3a/spacy-2.3.2-cp36-cp36m-manylinux1_x86_64.whl (9.9MB)\n",
            "\u001b[K     |████████████████████████████████| 10.0MB 2.5MB/s \n",
            "\u001b[?25hRequirement already satisfied: plac<1.2.0,>=0.9.6 in /usr/local/lib/python3.6/dist-packages (from spacy<2.4.0,>=2.3.0->en-core-web-sm==2.3.1) (1.1.3)\n",
            "Requirement already satisfied: setuptools in /usr/local/lib/python3.6/dist-packages (from spacy<2.4.0,>=2.3.0->en-core-web-sm==2.3.1) (49.6.0)\n",
            "Requirement already satisfied: preshed<3.1.0,>=3.0.2 in /usr/local/lib/python3.6/dist-packages (from spacy<2.4.0,>=2.3.0->en-core-web-sm==2.3.1) (3.0.2)\n",
            "Requirement already satisfied: srsly<1.1.0,>=1.0.2 in /usr/local/lib/python3.6/dist-packages (from spacy<2.4.0,>=2.3.0->en-core-web-sm==2.3.1) (1.0.2)\n",
            "Requirement already satisfied: cymem<2.1.0,>=2.0.2 in /usr/local/lib/python3.6/dist-packages (from spacy<2.4.0,>=2.3.0->en-core-web-sm==2.3.1) (2.0.3)\n",
            "Requirement already satisfied: murmurhash<1.1.0,>=0.28.0 in /usr/local/lib/python3.6/dist-packages (from spacy<2.4.0,>=2.3.0->en-core-web-sm==2.3.1) (1.0.2)\n",
            "Requirement already satisfied: blis<0.5.0,>=0.4.0 in /usr/local/lib/python3.6/dist-packages (from spacy<2.4.0,>=2.3.0->en-core-web-sm==2.3.1) (0.4.1)\n",
            "Requirement already satisfied: wasabi<1.1.0,>=0.4.0 in /usr/local/lib/python3.6/dist-packages (from spacy<2.4.0,>=2.3.0->en-core-web-sm==2.3.1) (0.7.1)\n",
            "Requirement already satisfied: tqdm<5.0.0,>=4.38.0 in /usr/local/lib/python3.6/dist-packages (from spacy<2.4.0,>=2.3.0->en-core-web-sm==2.3.1) (4.41.1)\n",
            "Requirement already satisfied: catalogue<1.1.0,>=0.0.7 in /usr/local/lib/python3.6/dist-packages (from spacy<2.4.0,>=2.3.0->en-core-web-sm==2.3.1) (1.0.0)\n",
            "Collecting thinc==7.4.1\n",
            "\u001b[?25l  Downloading https://files.pythonhosted.org/packages/10/ae/ef3ae5e93639c0ef8e3eb32e3c18341e511b3c515fcfc603f4b808087651/thinc-7.4.1-cp36-cp36m-manylinux1_x86_64.whl (2.1MB)\n",
            "\u001b[K     |████████████████████████████████| 2.1MB 32.0MB/s \n",
            "\u001b[?25hRequirement already satisfied: numpy>=1.15.0 in /usr/local/lib/python3.6/dist-packages (from spacy<2.4.0,>=2.3.0->en-core-web-sm==2.3.1) (1.18.5)\n",
            "Requirement already satisfied: requests<3.0.0,>=2.13.0 in /usr/local/lib/python3.6/dist-packages (from spacy<2.4.0,>=2.3.0->en-core-web-sm==2.3.1) (2.23.0)\n",
            "Requirement already satisfied: importlib-metadata>=0.20; python_version < \"3.8\" in /usr/local/lib/python3.6/dist-packages (from catalogue<1.1.0,>=0.0.7->spacy<2.4.0,>=2.3.0->en-core-web-sm==2.3.1) (1.7.0)\n",
            "Requirement already satisfied: idna<3,>=2.5 in /usr/local/lib/python3.6/dist-packages (from requests<3.0.0,>=2.13.0->spacy<2.4.0,>=2.3.0->en-core-web-sm==2.3.1) (2.10)\n",
            "Requirement already satisfied: certifi>=2017.4.17 in /usr/local/lib/python3.6/dist-packages (from requests<3.0.0,>=2.13.0->spacy<2.4.0,>=2.3.0->en-core-web-sm==2.3.1) (2020.6.20)\n",
            "Requirement already satisfied: urllib3!=1.25.0,!=1.25.1,<1.26,>=1.21.1 in /usr/local/lib/python3.6/dist-packages (from requests<3.0.0,>=2.13.0->spacy<2.4.0,>=2.3.0->en-core-web-sm==2.3.1) (1.24.3)\n",
            "Requirement already satisfied: chardet<4,>=3.0.2 in /usr/local/lib/python3.6/dist-packages (from requests<3.0.0,>=2.13.0->spacy<2.4.0,>=2.3.0->en-core-web-sm==2.3.1) (3.0.4)\n",
            "Requirement already satisfied: zipp>=0.5 in /usr/local/lib/python3.6/dist-packages (from importlib-metadata>=0.20; python_version < \"3.8\"->catalogue<1.1.0,>=0.0.7->spacy<2.4.0,>=2.3.0->en-core-web-sm==2.3.1) (3.1.0)\n",
            "Building wheels for collected packages: en-core-web-sm\n",
            "  Building wheel for en-core-web-sm (setup.py) ... \u001b[?25l\u001b[?25hdone\n",
            "  Created wheel for en-core-web-sm: filename=en_core_web_sm-2.3.1-cp36-none-any.whl size=12047109 sha256=019cfb7b4c4829d979d4d40287c7b62a77771b1fd2d1b8067ea8109acaed2af2\n",
            "  Stored in directory: /root/.cache/pip/wheels/2b/3f/41/f0b92863355c3ba34bb32b37d8a0c662959da0058202094f46\n",
            "Successfully built en-core-web-sm\n",
            "Installing collected packages: thinc, spacy, en-core-web-sm\n",
            "  Found existing installation: thinc 7.4.0\n",
            "    Uninstalling thinc-7.4.0:\n",
            "      Successfully uninstalled thinc-7.4.0\n",
            "  Found existing installation: spacy 2.2.4\n",
            "    Uninstalling spacy-2.2.4:\n",
            "      Successfully uninstalled spacy-2.2.4\n",
            "  Found existing installation: en-core-web-sm 2.2.5\n",
            "    Uninstalling en-core-web-sm-2.2.5:\n",
            "      Successfully uninstalled en-core-web-sm-2.2.5\n",
            "Successfully installed en-core-web-sm-2.3.1 spacy-2.3.2 thinc-7.4.1\n"
          ],
          "name": "stdout"
        }
      ]
    },
    {
      "cell_type": "markdown",
      "metadata": {
        "id": "Th6orLFwuEva",
        "colab_type": "text"
      },
      "source": [
        "Import required libraries"
      ]
    },
    {
      "cell_type": "code",
      "metadata": {
        "id": "5GTl92J34hS_",
        "colab_type": "code",
        "colab": {}
      },
      "source": [
        "import pandas as pd\n",
        "import spacy as sp"
      ],
      "execution_count": null,
      "outputs": []
    },
    {
      "cell_type": "markdown",
      "metadata": {
        "id": "Z2yfrEcguNrK",
        "colab_type": "text"
      },
      "source": [
        "#Load and clean data"
      ]
    },
    {
      "cell_type": "markdown",
      "metadata": {
        "id": "6GqfnnzjuZSj",
        "colab_type": "text"
      },
      "source": [
        "I share the excel  sheet into my  Github account to  be accessible from  anywhere "
      ]
    },
    {
      "cell_type": "code",
      "metadata": {
        "id": "-2zQtZMm4rCY",
        "colab_type": "code",
        "colab": {}
      },
      "source": [
        "df=pd.read_excel('https://github.com/aesaied/AIMLGenerator/blob/master/ITFAQ.xlsx?raw=true')"
      ],
      "execution_count": null,
      "outputs": []
    },
    {
      "cell_type": "code",
      "metadata": {
        "id": "6ZxxTIVc56-u",
        "colab_type": "code",
        "colab": {
          "base_uri": "https://localhost:8080/",
          "height": 1000
        },
        "outputId": "2fad2257-fd82-40a2-c791-2fdb6a207a02"
      },
      "source": [
        "df"
      ],
      "execution_count": null,
      "outputs": [
        {
          "output_type": "execute_result",
          "data": {
            "text/html": [
              "<div>\n",
              "<style scoped>\n",
              "    .dataframe tbody tr th:only-of-type {\n",
              "        vertical-align: middle;\n",
              "    }\n",
              "\n",
              "    .dataframe tbody tr th {\n",
              "        vertical-align: top;\n",
              "    }\n",
              "\n",
              "    .dataframe thead th {\n",
              "        text-align: right;\n",
              "    }\n",
              "</style>\n",
              "<table border=\"1\" class=\"dataframe\">\n",
              "  <thead>\n",
              "    <tr style=\"text-align: right;\">\n",
              "      <th></th>\n",
              "      <th>Question</th>\n",
              "      <th>Answer</th>\n",
              "    </tr>\n",
              "  </thead>\n",
              "  <tbody>\n",
              "    <tr>\n",
              "      <th>0</th>\n",
              "      <td>Why Isn’t My Computer Turning On?</td>\n",
              "      <td>The first thing to do is check the power cord ...</td>\n",
              "    </tr>\n",
              "    <tr>\n",
              "      <th>1</th>\n",
              "      <td>My Computer Has Crashed – How Do I Fix It?</td>\n",
              "      <td>Nothing is more annoying than when you’re work...</td>\n",
              "    </tr>\n",
              "    <tr>\n",
              "      <th>2</th>\n",
              "      <td>How Can I Mitigate the Risk of a Hard Drive Di...</td>\n",
              "      <td>Your hard drive will typically store all your ...</td>\n",
              "    </tr>\n",
              "    <tr>\n",
              "      <th>3</th>\n",
              "      <td>Why Is My Monitor Blank?</td>\n",
              "      <td>If you’ve stepped away from your computer for ...</td>\n",
              "    </tr>\n",
              "    <tr>\n",
              "      <th>4</th>\n",
              "      <td>How Do I Stop the Image on My Screen from Bein...</td>\n",
              "      <td>If the cable is loose, then it can result in a...</td>\n",
              "    </tr>\n",
              "    <tr>\n",
              "      <th>5</th>\n",
              "      <td>What Do I Do If I Get a “No Signal Input” Mess...</td>\n",
              "      <td>A “no signal input” message appears when there...</td>\n",
              "    </tr>\n",
              "    <tr>\n",
              "      <th>6</th>\n",
              "      <td>How Do I Get Rid of the Black Borders Around M...</td>\n",
              "      <td>If you’ve recently changed your screen’s reso...</td>\n",
              "    </tr>\n",
              "    <tr>\n",
              "      <th>7</th>\n",
              "      <td>Why Is My Mouse Acting Erratically?</td>\n",
              "      <td>If you have a desktop computer, then you’re m...</td>\n",
              "    </tr>\n",
              "    <tr>\n",
              "      <th>8</th>\n",
              "      <td>Why Has My Mouse/Keyboard Stopped Working?</td>\n",
              "      <td>If your mouse or keyboard has stopped working,...</td>\n",
              "    </tr>\n",
              "    <tr>\n",
              "      <th>9</th>\n",
              "      <td>Can I Turn My Windows Computer off Without Doi...</td>\n",
              "      <td>Technically you can just shut your computer of...</td>\n",
              "    </tr>\n",
              "    <tr>\n",
              "      <th>10</th>\n",
              "      <td>How Do I Get My PC into Safe Mode?</td>\n",
              "      <td>Safe mode is used when there’s a system-critic...</td>\n",
              "    </tr>\n",
              "    <tr>\n",
              "      <th>11</th>\n",
              "      <td>How Do I Get My Mac into Safe Mode?</td>\n",
              "      <td>Safe mode works the same way for Macs as it do...</td>\n",
              "    </tr>\n",
              "    <tr>\n",
              "      <th>12</th>\n",
              "      <td>Can I Get a Virus on a Mac?</td>\n",
              "      <td>Unfortunately, it’s a myth that Macs are bulle...</td>\n",
              "    </tr>\n",
              "    <tr>\n",
              "      <th>13</th>\n",
              "      <td>Why Can’t I Send/Receive Emails?</td>\n",
              "      <td>One of the main reasons why you can’t send/rec...</td>\n",
              "    </tr>\n",
              "    <tr>\n",
              "      <th>14</th>\n",
              "      <td>Why Am I Unable to Receive Any Email Attachments?</td>\n",
              "      <td>If your inbox is full, then you won’t be able...</td>\n",
              "    </tr>\n",
              "    <tr>\n",
              "      <th>15</th>\n",
              "      <td>How Do I Fix a Paper Jam?</td>\n",
              "      <td>If the paper has jammed, then the first thing...</td>\n",
              "    </tr>\n",
              "    <tr>\n",
              "      <th>16</th>\n",
              "      <td>How Do I Clear the Print Queue?</td>\n",
              "      <td>A print queue is a list of all documents that ...</td>\n",
              "    </tr>\n",
              "    <tr>\n",
              "      <th>17</th>\n",
              "      <td>Why Can’t I Connect to the Company Drive When ...</td>\n",
              "      <td>All you need to do is connect to your company’...</td>\n",
              "    </tr>\n",
              "    <tr>\n",
              "      <th>18</th>\n",
              "      <td>How Do I Delete My Cookies?</td>\n",
              "      <td>If you’re on Google Chrome, to delete your coo...</td>\n",
              "    </tr>\n",
              "    <tr>\n",
              "      <th>19</th>\n",
              "      <td>How Do I Delete My Browser History?</td>\n",
              "      <td>If you’re using Google Chrome, click on More a...</td>\n",
              "    </tr>\n",
              "    <tr>\n",
              "      <th>20</th>\n",
              "      <td>How Can I Browse in Private or Incognito Mode?</td>\n",
              "      <td>You may decide to use incognito mode for vario...</td>\n",
              "    </tr>\n",
              "    <tr>\n",
              "      <th>21</th>\n",
              "      <td>How Do I Change My Default Browser?</td>\n",
              "      <td>To make Chrome your default browser, open Chro...</td>\n",
              "    </tr>\n",
              "    <tr>\n",
              "      <th>22</th>\n",
              "      <td>How Can I Set My Homepage to One of My Choice?</td>\n",
              "      <td>If you’re using Internet Explorer, type in you...</td>\n",
              "    </tr>\n",
              "    <tr>\n",
              "      <th>23</th>\n",
              "      <td>How Do I Save Favourites and Bookmarks?</td>\n",
              "      <td>Favourites and Bookmarks are the same thing, i...</td>\n",
              "    </tr>\n",
              "    <tr>\n",
              "      <th>24</th>\n",
              "      <td>How Do I Clear My Password History?</td>\n",
              "      <td>If you want to clear your password history on...</td>\n",
              "    </tr>\n",
              "    <tr>\n",
              "      <th>25</th>\n",
              "      <td>How Do I Turn Presentation Mode On?</td>\n",
              "      <td>Turning the Presentation mode on is easy: just...</td>\n",
              "    </tr>\n",
              "    <tr>\n",
              "      <th>26</th>\n",
              "      <td>How Do I Retrieve an Unsaved File?</td>\n",
              "      <td>To retrieve a document, click on File à Recent...</td>\n",
              "    </tr>\n",
              "    <tr>\n",
              "      <th>27</th>\n",
              "      <td>How Do I Turn off Macros?</td>\n",
              "      <td>Excel macros can be ideal because they can aut...</td>\n",
              "    </tr>\n",
              "    <tr>\n",
              "      <th>28</th>\n",
              "      <td>How Do I Disable Add-Ins?</td>\n",
              "      <td>You can enable Add-Ins in Word, Excel and Powe...</td>\n",
              "    </tr>\n",
              "    <tr>\n",
              "      <th>29</th>\n",
              "      <td>How Do I Add a Shortcut to My Desktop?</td>\n",
              "      <td>Adding a shortcut to your desktop is simple: j...</td>\n",
              "    </tr>\n",
              "    <tr>\n",
              "      <th>30</th>\n",
              "      <td>How Do I Know If My PC Is up to Date?</td>\n",
              "      <td>Operating systems should be set to automatical...</td>\n",
              "    </tr>\n",
              "    <tr>\n",
              "      <th>31</th>\n",
              "      <td>How Do I Access My Snipping Tool?</td>\n",
              "      <td>The Snipping Tool can be very useful, as it en...</td>\n",
              "    </tr>\n",
              "    <tr>\n",
              "      <th>32</th>\n",
              "      <td>How Do I Change My Keyboard Language?</td>\n",
              "      <td>If you’re using Windows 7, click on the Keyboa...</td>\n",
              "    </tr>\n",
              "    <tr>\n",
              "      <th>33</th>\n",
              "      <td>How Do I Restore Files From My Recycle Bin?</td>\n",
              "      <td>Open your recycle bin to find all of your dele...</td>\n",
              "    </tr>\n",
              "  </tbody>\n",
              "</table>\n",
              "</div>"
            ],
            "text/plain": [
              "                                             Question                                             Answer\n",
              "0                  Why Isn’t My Computer Turning On?   The first thing to do is check the power cord ...\n",
              "1         My Computer Has Crashed – How Do I Fix It?   Nothing is more annoying than when you’re work...\n",
              "2   How Can I Mitigate the Risk of a Hard Drive Di...  Your hard drive will typically store all your ...\n",
              "3                           Why Is My Monitor Blank?   If you’ve stepped away from your computer for ...\n",
              "4   How Do I Stop the Image on My Screen from Bein...  If the cable is loose, then it can result in a...\n",
              "5   What Do I Do If I Get a “No Signal Input” Mess...  A “no signal input” message appears when there...\n",
              "6   How Do I Get Rid of the Black Borders Around M...   If you’ve recently changed your screen’s reso...\n",
              "7                Why Is My Mouse Acting Erratically?    If you have a desktop computer, then you’re m...\n",
              "8          Why Has My Mouse/Keyboard Stopped Working?  If your mouse or keyboard has stopped working,...\n",
              "9   Can I Turn My Windows Computer off Without Doi...  Technically you can just shut your computer of...\n",
              "10                 How Do I Get My PC into Safe Mode?  Safe mode is used when there’s a system-critic...\n",
              "11               How Do I Get My Mac into Safe Mode?   Safe mode works the same way for Macs as it do...\n",
              "12                        Can I Get a Virus on a Mac?  Unfortunately, it’s a myth that Macs are bulle...\n",
              "13                   Why Can’t I Send/Receive Emails?  One of the main reasons why you can’t send/rec...\n",
              "14  Why Am I Unable to Receive Any Email Attachments?   If your inbox is full, then you won’t be able...\n",
              "15                          How Do I Fix a Paper Jam?   If the paper has jammed, then the first thing...\n",
              "16                    How Do I Clear the Print Queue?  A print queue is a list of all documents that ...\n",
              "17  Why Can’t I Connect to the Company Drive When ...  All you need to do is connect to your company’...\n",
              "18                       How Do I Delete My Cookies?   If you’re on Google Chrome, to delete your coo...\n",
              "19                How Do I Delete My Browser History?  If you’re using Google Chrome, click on More a...\n",
              "20     How Can I Browse in Private or Incognito Mode?  You may decide to use incognito mode for vario...\n",
              "21                How Do I Change My Default Browser?  To make Chrome your default browser, open Chro...\n",
              "22     How Can I Set My Homepage to One of My Choice?  If you’re using Internet Explorer, type in you...\n",
              "23           How Do I Save Favourites and Bookmarks?   Favourites and Bookmarks are the same thing, i...\n",
              "24               How Do I Clear My Password History?    If you want to clear your password history on...\n",
              "25                How Do I Turn Presentation Mode On?  Turning the Presentation mode on is easy: just...\n",
              "26                 How Do I Retrieve an Unsaved File?  To retrieve a document, click on File à Recent...\n",
              "27                          How Do I Turn off Macros?  Excel macros can be ideal because they can aut...\n",
              "28                          How Do I Disable Add-Ins?  You can enable Add-Ins in Word, Excel and Powe...\n",
              "29             How Do I Add a Shortcut to My Desktop?  Adding a shortcut to your desktop is simple: j...\n",
              "30              How Do I Know If My PC Is up to Date?  Operating systems should be set to automatical...\n",
              "31                  How Do I Access My Snipping Tool?  The Snipping Tool can be very useful, as it en...\n",
              "32              How Do I Change My Keyboard Language?  If you’re using Windows 7, click on the Keyboa...\n",
              "33        How Do I Restore Files From My Recycle Bin?  Open your recycle bin to find all of your dele..."
            ]
          },
          "metadata": {
            "tags": []
          },
          "execution_count": 4
        }
      ]
    },
    {
      "cell_type": "markdown",
      "metadata": {
        "id": "aP7LBsoWy1fZ",
        "colab_type": "text"
      },
      "source": [
        "Make check if there are any  empty question "
      ]
    },
    {
      "cell_type": "code",
      "metadata": {
        "id": "zgMrrXO0Vs7H",
        "colab_type": "code",
        "colab": {
          "base_uri": "https://localhost:8080/",
          "height": 34
        },
        "outputId": "b7808fe9-3c0e-443f-ecec-9cbcc875c846"
      },
      "source": [
        "df['Question'].isnull().sum()"
      ],
      "execution_count": null,
      "outputs": [
        {
          "output_type": "execute_result",
          "data": {
            "text/plain": [
              "0"
            ]
          },
          "metadata": {
            "tags": []
          },
          "execution_count": 5
        }
      ]
    },
    {
      "cell_type": "markdown",
      "metadata": {
        "id": "OytzLvxwy-ka",
        "colab_type": "text"
      },
      "source": [
        "Make check if there are any  empty answer "
      ]
    },
    {
      "cell_type": "code",
      "metadata": {
        "id": "N0GheY-szFUC",
        "colab_type": "code",
        "colab": {
          "base_uri": "https://localhost:8080/",
          "height": 34
        },
        "outputId": "d86fb93f-8039-4dd0-9774-a4b1573c64ae"
      },
      "source": [
        "df['Question'].isnull().sum()"
      ],
      "execution_count": null,
      "outputs": [
        {
          "output_type": "execute_result",
          "data": {
            "text/plain": [
              "0"
            ]
          },
          "metadata": {
            "tags": []
          },
          "execution_count": 6
        }
      ]
    },
    {
      "cell_type": "markdown",
      "metadata": {
        "id": "xzLkSy5SKTwU",
        "colab_type": "text"
      },
      "source": [
        "Define a function to  to  replace special  charcters (&,>,<,\") and remove the exrea lines"
      ]
    },
    {
      "cell_type": "code",
      "metadata": {
        "id": "b9vNei35-nDh",
        "colab_type": "code",
        "colab": {}
      },
      "source": [
        "def processAnswer(text):\n",
        "   text=text.replace('&', '&amp;') \\\n",
        "   .replace('<', '&lt;') \\\n",
        "   .replace('>', '&gt;') \\\n",
        "   .replace('\"', '&quot;') \\\n",
        "   .replace(\"\\n\\n\",'\\n') \\\n",
        "   .replace(\"\\n\\n\",'\\n') \\\n",
        "   .replace(\"\\r\\r\",'\\r') \\\n",
        "   .replace(\"\\r\\r\",'\\r')\n",
        "   return text\n"
      ],
      "execution_count": null,
      "outputs": []
    },
    {
      "cell_type": "markdown",
      "metadata": {
        "id": "BQNwZbsFLEeH",
        "colab_type": "text"
      },
      "source": [
        "Clean Answers by  applying processAnswer function  to  each  row"
      ]
    },
    {
      "cell_type": "code",
      "metadata": {
        "id": "mb7kEuei-zSf",
        "colab_type": "code",
        "colab": {}
      },
      "source": [
        "df['Answer']= df['Answer'].apply(processAnswer)"
      ],
      "execution_count": null,
      "outputs": []
    },
    {
      "cell_type": "markdown",
      "metadata": {
        "id": "8RSHIqDJ0P5-",
        "colab_type": "text"
      },
      "source": [
        "#Prepare data and Lemmatization"
      ]
    },
    {
      "cell_type": "markdown",
      "metadata": {
        "id": "bdfMONpfwv75",
        "colab_type": "text"
      },
      "source": [
        "Load English module by  name  "
      ]
    },
    {
      "cell_type": "code",
      "metadata": {
        "id": "PuZBqitbwupQ",
        "colab_type": "code",
        "colab": {}
      },
      "source": [
        "nlp = sp.load('en_core_web_sm')"
      ],
      "execution_count": null,
      "outputs": []
    },
    {
      "cell_type": "markdown",
      "metadata": {
        "id": "JkltXGKGvQb0",
        "colab_type": "text"
      },
      "source": [
        "Define the stop words and  custom skipped stop words"
      ]
    },
    {
      "cell_type": "code",
      "metadata": {
        "id": "8aFe0tOJV7vF",
        "colab_type": "code",
        "colab": {}
      },
      "source": [
        "all_stopwords = nlp.Defaults.stop_words\n",
        "skipedStopWords=['what','when','be','how','who','can']\n",
        "skipedStopWords=[]"
      ],
      "execution_count": null,
      "outputs": []
    },
    {
      "cell_type": "markdown",
      "metadata": {
        "id": "zI0FJrFX7_UO",
        "colab_type": "text"
      },
      "source": [
        "Define function for "
      ]
    },
    {
      "cell_type": "code",
      "metadata": {
        "id": "UXboWMmZWvfy",
        "colab_type": "code",
        "colab": {}
      },
      "source": [
        "def ProcessText(text):\n",
        "  doc = nlp(text)\n",
        "  \n",
        "  text=text.replace(\"\\n\",'') \\\n",
        "   .replace(\"\\r\",'') \\\n",
        "   .lower()\n",
        "  return (\" \".join([token.lemma_ for token in doc if  (token.is_stop==False  or token.lemma_ in skipedStopWords) and token.is_punct==False])).upper()\n",
        "  "
      ],
      "execution_count": null,
      "outputs": []
    },
    {
      "cell_type": "markdown",
      "metadata": {
        "id": "q7d2MIE9JFuL",
        "colab_type": "text"
      },
      "source": [
        "Sample code to  test  the extracted results"
      ]
    },
    {
      "cell_type": "code",
      "metadata": {
        "id": "QoHJdY5A7Tt3",
        "colab_type": "code",
        "colab": {
          "base_uri": "https://localhost:8080/",
          "height": 35
        },
        "outputId": "08b6a574-6be4-4940-bb83-aa309db32c6e"
      },
      "source": [
        "text = (\"Why Is My Mouse Acting Erratically?\")\n",
        "ProcessText(text)"
      ],
      "execution_count": null,
      "outputs": [
        {
          "output_type": "execute_result",
          "data": {
            "application/vnd.google.colaboratory.intrinsic+json": {
              "type": "string"
            },
            "text/plain": [
              "'MOUSE ACTING ERRATICALLY'"
            ]
          },
          "metadata": {
            "tags": []
          },
          "execution_count": 12
        }
      ]
    },
    {
      "cell_type": "markdown",
      "metadata": {
        "id": "Voh-aqYzJMUy",
        "colab_type": "text"
      },
      "source": [
        "Apply Lemmatization and save the result in column called QuestionLemma"
      ]
    },
    {
      "cell_type": "code",
      "metadata": {
        "id": "ZFGBecWLJSKo",
        "colab_type": "code",
        "colab": {}
      },
      "source": [
        "df['QuestionLemma']= df['Question'].apply(ProcessText)"
      ],
      "execution_count": null,
      "outputs": []
    },
    {
      "cell_type": "code",
      "metadata": {
        "id": "PPYUz7ThJpx_",
        "colab_type": "code",
        "colab": {
          "base_uri": "https://localhost:8080/",
          "height": 1000
        },
        "outputId": "98ebcd10-0f20-4db7-e4ba-545860650661"
      },
      "source": [
        "df"
      ],
      "execution_count": null,
      "outputs": [
        {
          "output_type": "execute_result",
          "data": {
            "text/html": [
              "<div>\n",
              "<style scoped>\n",
              "    .dataframe tbody tr th:only-of-type {\n",
              "        vertical-align: middle;\n",
              "    }\n",
              "\n",
              "    .dataframe tbody tr th {\n",
              "        vertical-align: top;\n",
              "    }\n",
              "\n",
              "    .dataframe thead th {\n",
              "        text-align: right;\n",
              "    }\n",
              "</style>\n",
              "<table border=\"1\" class=\"dataframe\">\n",
              "  <thead>\n",
              "    <tr style=\"text-align: right;\">\n",
              "      <th></th>\n",
              "      <th>Question</th>\n",
              "      <th>Answer</th>\n",
              "      <th>QuestionLemma</th>\n",
              "    </tr>\n",
              "  </thead>\n",
              "  <tbody>\n",
              "    <tr>\n",
              "      <th>0</th>\n",
              "      <td>Why Isn’t My Computer Turning On?</td>\n",
              "      <td>The first thing to do is check the power cord ...</td>\n",
              "      <td>COMPUTER TURN</td>\n",
              "    </tr>\n",
              "    <tr>\n",
              "      <th>1</th>\n",
              "      <td>My Computer Has Crashed – How Do I Fix It?</td>\n",
              "      <td>Nothing is more annoying than when you’re work...</td>\n",
              "      <td>COMPUTER CRASH FIX</td>\n",
              "    </tr>\n",
              "    <tr>\n",
              "      <th>2</th>\n",
              "      <td>How Can I Mitigate the Risk of a Hard Drive Di...</td>\n",
              "      <td>Your hard drive will typically store all your ...</td>\n",
              "      <td>MITIGATE RISK HARD DRIVE DISK FAILURE</td>\n",
              "    </tr>\n",
              "    <tr>\n",
              "      <th>3</th>\n",
              "      <td>Why Is My Monitor Blank?</td>\n",
              "      <td>If you’ve stepped away from your computer for ...</td>\n",
              "      <td>MONITOR BLANK</td>\n",
              "    </tr>\n",
              "    <tr>\n",
              "      <th>4</th>\n",
              "      <td>How Do I Stop the Image on My Screen from Bein...</td>\n",
              "      <td>If the cable is loose, then it can result in a...</td>\n",
              "      <td>STOP IMAGE SCREEN SKEWED DISTORT</td>\n",
              "    </tr>\n",
              "    <tr>\n",
              "      <th>5</th>\n",
              "      <td>What Do I Do If I Get a “No Signal Input” Mess...</td>\n",
              "      <td>A “no signal input” message appears when there...</td>\n",
              "      <td>SIGNAL INPUT MESSAGE</td>\n",
              "    </tr>\n",
              "    <tr>\n",
              "      <th>6</th>\n",
              "      <td>How Do I Get Rid of the Black Borders Around M...</td>\n",
              "      <td>If you’ve recently changed your screen’s reso...</td>\n",
              "      <td>RID BLACK BORDERS SCREEN</td>\n",
              "    </tr>\n",
              "    <tr>\n",
              "      <th>7</th>\n",
              "      <td>Why Is My Mouse Acting Erratically?</td>\n",
              "      <td>If you have a desktop computer, then you’re m...</td>\n",
              "      <td>MOUSE ACTING ERRATICALLY</td>\n",
              "    </tr>\n",
              "    <tr>\n",
              "      <th>8</th>\n",
              "      <td>Why Has My Mouse/Keyboard Stopped Working?</td>\n",
              "      <td>If your mouse or keyboard has stopped working,...</td>\n",
              "      <td>MOUSE KEYBOARD STOPPED WORKING</td>\n",
              "    </tr>\n",
              "    <tr>\n",
              "      <th>9</th>\n",
              "      <td>Can I Turn My Windows Computer off Without Doi...</td>\n",
              "      <td>Technically you can just shut your computer of...</td>\n",
              "      <td>TURN WINDOW COMPUTER SHUT</td>\n",
              "    </tr>\n",
              "    <tr>\n",
              "      <th>10</th>\n",
              "      <td>How Do I Get My PC into Safe Mode?</td>\n",
              "      <td>Safe mode is used when there’s a system-critic...</td>\n",
              "      <td>PC SAFE MODE</td>\n",
              "    </tr>\n",
              "    <tr>\n",
              "      <th>11</th>\n",
              "      <td>How Do I Get My Mac into Safe Mode?</td>\n",
              "      <td>Safe mode works the same way for Macs as it do...</td>\n",
              "      <td>MAC SAFE MODE</td>\n",
              "    </tr>\n",
              "    <tr>\n",
              "      <th>12</th>\n",
              "      <td>Can I Get a Virus on a Mac?</td>\n",
              "      <td>Unfortunately, it’s a myth that Macs are bulle...</td>\n",
              "      <td>VIRUS MAC</td>\n",
              "    </tr>\n",
              "    <tr>\n",
              "      <th>13</th>\n",
              "      <td>Why Can’t I Send/Receive Emails?</td>\n",
              "      <td>One of the main reasons why you can’t send/rec...</td>\n",
              "      <td>SEND RECEIVE EMAIL</td>\n",
              "    </tr>\n",
              "    <tr>\n",
              "      <th>14</th>\n",
              "      <td>Why Am I Unable to Receive Any Email Attachments?</td>\n",
              "      <td>If your inbox is full, then you won’t be able...</td>\n",
              "      <td>UNABLE RECEIVE EMAIL ATTACHMENT</td>\n",
              "    </tr>\n",
              "    <tr>\n",
              "      <th>15</th>\n",
              "      <td>How Do I Fix a Paper Jam?</td>\n",
              "      <td>If the paper has jammed, then the first thing...</td>\n",
              "      <td>FIX PAPER JAM</td>\n",
              "    </tr>\n",
              "    <tr>\n",
              "      <th>16</th>\n",
              "      <td>How Do I Clear the Print Queue?</td>\n",
              "      <td>A print queue is a list of all documents that ...</td>\n",
              "      <td>CLEAR PRINT QUEUE</td>\n",
              "    </tr>\n",
              "    <tr>\n",
              "      <th>17</th>\n",
              "      <td>Why Can’t I Connect to the Company Drive When ...</td>\n",
              "      <td>All you need to do is connect to your company’...</td>\n",
              "      <td>CONNECT COMPANY DRIVE HOME</td>\n",
              "    </tr>\n",
              "    <tr>\n",
              "      <th>18</th>\n",
              "      <td>How Do I Delete My Cookies?</td>\n",
              "      <td>If you’re on Google Chrome, to delete your coo...</td>\n",
              "      <td>DELETE COOKIE</td>\n",
              "    </tr>\n",
              "    <tr>\n",
              "      <th>19</th>\n",
              "      <td>How Do I Delete My Browser History?</td>\n",
              "      <td>If you’re using Google Chrome, click on More a...</td>\n",
              "      <td>DELETE BROWSER HISTORY</td>\n",
              "    </tr>\n",
              "    <tr>\n",
              "      <th>20</th>\n",
              "      <td>How Can I Browse in Private or Incognito Mode?</td>\n",
              "      <td>You may decide to use incognito mode for vario...</td>\n",
              "      <td>BROWSE PRIVATE INCOGNITO MODE</td>\n",
              "    </tr>\n",
              "    <tr>\n",
              "      <th>21</th>\n",
              "      <td>How Do I Change My Default Browser?</td>\n",
              "      <td>To make Chrome your default browser, open Chro...</td>\n",
              "      <td>CHANGE DEFAULT BROWSER</td>\n",
              "    </tr>\n",
              "    <tr>\n",
              "      <th>22</th>\n",
              "      <td>How Can I Set My Homepage to One of My Choice?</td>\n",
              "      <td>If you’re using Internet Explorer, type in you...</td>\n",
              "      <td>SET HOMEPAGE CHOICE</td>\n",
              "    </tr>\n",
              "    <tr>\n",
              "      <th>23</th>\n",
              "      <td>How Do I Save Favourites and Bookmarks?</td>\n",
              "      <td>Favourites and Bookmarks are the same thing, i...</td>\n",
              "      <td>SAVE FAVOURITES BOOKMARKS</td>\n",
              "    </tr>\n",
              "    <tr>\n",
              "      <th>24</th>\n",
              "      <td>How Do I Clear My Password History?</td>\n",
              "      <td>If you want to clear your password history on...</td>\n",
              "      <td>CLEAR PASSWORD HISTORY</td>\n",
              "    </tr>\n",
              "    <tr>\n",
              "      <th>25</th>\n",
              "      <td>How Do I Turn Presentation Mode On?</td>\n",
              "      <td>Turning the Presentation mode on is easy: just...</td>\n",
              "      <td>TURN PRESENTATION MODE</td>\n",
              "    </tr>\n",
              "    <tr>\n",
              "      <th>26</th>\n",
              "      <td>How Do I Retrieve an Unsaved File?</td>\n",
              "      <td>To retrieve a document, click on File à Recent...</td>\n",
              "      <td>RETRIEVE UNSAVED FILE</td>\n",
              "    </tr>\n",
              "    <tr>\n",
              "      <th>27</th>\n",
              "      <td>How Do I Turn off Macros?</td>\n",
              "      <td>Excel macros can be ideal because they can aut...</td>\n",
              "      <td>TURN MACROS</td>\n",
              "    </tr>\n",
              "    <tr>\n",
              "      <th>28</th>\n",
              "      <td>How Do I Disable Add-Ins?</td>\n",
              "      <td>You can enable Add-Ins in Word, Excel and Powe...</td>\n",
              "      <td>DISABLE ADD INS</td>\n",
              "    </tr>\n",
              "    <tr>\n",
              "      <th>29</th>\n",
              "      <td>How Do I Add a Shortcut to My Desktop?</td>\n",
              "      <td>Adding a shortcut to your desktop is simple: j...</td>\n",
              "      <td>ADD SHORTCUT DESKTOP</td>\n",
              "    </tr>\n",
              "    <tr>\n",
              "      <th>30</th>\n",
              "      <td>How Do I Know If My PC Is up to Date?</td>\n",
              "      <td>Operating systems should be set to automatical...</td>\n",
              "      <td>KNOW PC DATE</td>\n",
              "    </tr>\n",
              "    <tr>\n",
              "      <th>31</th>\n",
              "      <td>How Do I Access My Snipping Tool?</td>\n",
              "      <td>The Snipping Tool can be very useful, as it en...</td>\n",
              "      <td>ACCESS SNIP TOOL</td>\n",
              "    </tr>\n",
              "    <tr>\n",
              "      <th>32</th>\n",
              "      <td>How Do I Change My Keyboard Language?</td>\n",
              "      <td>If you’re using Windows 7, click on the Keyboa...</td>\n",
              "      <td>CHANGE KEYBOARD LANGUAGE</td>\n",
              "    </tr>\n",
              "    <tr>\n",
              "      <th>33</th>\n",
              "      <td>How Do I Restore Files From My Recycle Bin?</td>\n",
              "      <td>Open your recycle bin to find all of your dele...</td>\n",
              "      <td>RESTORE FILE RECYCLE BIN</td>\n",
              "    </tr>\n",
              "  </tbody>\n",
              "</table>\n",
              "</div>"
            ],
            "text/plain": [
              "                                             Question  ...                          QuestionLemma\n",
              "0                  Why Isn’t My Computer Turning On?   ...                          COMPUTER TURN\n",
              "1         My Computer Has Crashed – How Do I Fix It?   ...                     COMPUTER CRASH FIX\n",
              "2   How Can I Mitigate the Risk of a Hard Drive Di...  ...  MITIGATE RISK HARD DRIVE DISK FAILURE\n",
              "3                           Why Is My Monitor Blank?   ...                          MONITOR BLANK\n",
              "4   How Do I Stop the Image on My Screen from Bein...  ...       STOP IMAGE SCREEN SKEWED DISTORT\n",
              "5   What Do I Do If I Get a “No Signal Input” Mess...  ...                   SIGNAL INPUT MESSAGE\n",
              "6   How Do I Get Rid of the Black Borders Around M...  ...               RID BLACK BORDERS SCREEN\n",
              "7                Why Is My Mouse Acting Erratically?   ...               MOUSE ACTING ERRATICALLY\n",
              "8          Why Has My Mouse/Keyboard Stopped Working?  ...         MOUSE KEYBOARD STOPPED WORKING\n",
              "9   Can I Turn My Windows Computer off Without Doi...  ...              TURN WINDOW COMPUTER SHUT\n",
              "10                 How Do I Get My PC into Safe Mode?  ...                           PC SAFE MODE\n",
              "11               How Do I Get My Mac into Safe Mode?   ...                          MAC SAFE MODE\n",
              "12                        Can I Get a Virus on a Mac?  ...                              VIRUS MAC\n",
              "13                   Why Can’t I Send/Receive Emails?  ...                     SEND RECEIVE EMAIL\n",
              "14  Why Am I Unable to Receive Any Email Attachments?  ...        UNABLE RECEIVE EMAIL ATTACHMENT\n",
              "15                          How Do I Fix a Paper Jam?  ...                          FIX PAPER JAM\n",
              "16                    How Do I Clear the Print Queue?  ...                      CLEAR PRINT QUEUE\n",
              "17  Why Can’t I Connect to the Company Drive When ...  ...             CONNECT COMPANY DRIVE HOME\n",
              "18                       How Do I Delete My Cookies?   ...                          DELETE COOKIE\n",
              "19                How Do I Delete My Browser History?  ...                 DELETE BROWSER HISTORY\n",
              "20     How Can I Browse in Private or Incognito Mode?  ...          BROWSE PRIVATE INCOGNITO MODE\n",
              "21                How Do I Change My Default Browser?  ...                 CHANGE DEFAULT BROWSER\n",
              "22     How Can I Set My Homepage to One of My Choice?  ...                    SET HOMEPAGE CHOICE\n",
              "23           How Do I Save Favourites and Bookmarks?   ...              SAVE FAVOURITES BOOKMARKS\n",
              "24               How Do I Clear My Password History?   ...                 CLEAR PASSWORD HISTORY\n",
              "25                How Do I Turn Presentation Mode On?  ...                 TURN PRESENTATION MODE\n",
              "26                 How Do I Retrieve an Unsaved File?  ...                  RETRIEVE UNSAVED FILE\n",
              "27                          How Do I Turn off Macros?  ...                            TURN MACROS\n",
              "28                          How Do I Disable Add-Ins?  ...                        DISABLE ADD INS\n",
              "29             How Do I Add a Shortcut to My Desktop?  ...                   ADD SHORTCUT DESKTOP\n",
              "30              How Do I Know If My PC Is up to Date?  ...                           KNOW PC DATE\n",
              "31                  How Do I Access My Snipping Tool?  ...                       ACCESS SNIP TOOL\n",
              "32              How Do I Change My Keyboard Language?  ...               CHANGE KEYBOARD LANGUAGE\n",
              "33        How Do I Restore Files From My Recycle Bin?  ...               RESTORE FILE RECYCLE BIN\n",
              "\n",
              "[34 rows x 3 columns]"
            ]
          },
          "metadata": {
            "tags": []
          },
          "execution_count": 14
        }
      ]
    },
    {
      "cell_type": "markdown",
      "metadata": {
        "id": "1T_gpK9bLaN0",
        "colab_type": "text"
      },
      "source": [
        "Remove duplicates if any"
      ]
    },
    {
      "cell_type": "code",
      "metadata": {
        "id": "cqrlXeWtU4g9",
        "colab_type": "code",
        "colab": {}
      },
      "source": [
        "df=df[df.duplicated(keep='last', subset=['QuestionLemma'])==False]"
      ],
      "execution_count": null,
      "outputs": []
    },
    {
      "cell_type": "markdown",
      "metadata": {
        "id": "qRtPy_EPLiGA",
        "colab_type": "text"
      },
      "source": [
        "Define function  to generate AIML nodes "
      ]
    },
    {
      "cell_type": "code",
      "metadata": {
        "id": "DAVWqjSq6kqp",
        "colab_type": "code",
        "colab": {}
      },
      "source": [
        "def GenerateAIMLQuestionCategories(row):\n",
        "    \n",
        "    xml = []\n",
        "    alternativeQuestion = row[\"QuestionLemma\"]\n",
        "    xml.append('<category><pattern>{0}</pattern><template>{1}</template></category>'.format(alternativeQuestion,row['Answer']))    \n",
        "    xml.append('<category><pattern>* {0} *</pattern><template><srai>{1}</srai></template></category>'.format(alternativeQuestion,row['QuestionLemma']))\n",
        "    xml.append('<category><pattern>* {0}</pattern><template><srai>{1}</srai></template></category>'.format(alternativeQuestion,row['QuestionLemma']))\n",
        "    xml.append('<category><pattern>{0} *</pattern><template><srai>{1}</srai></template></category>'.format(alternativeQuestion,row['QuestionLemma']))\n",
        "    return ''.join(xml)"
      ],
      "execution_count": null,
      "outputs": []
    },
    {
      "cell_type": "markdown",
      "metadata": {
        "id": "-BITApiMLyb2",
        "colab_type": "text"
      },
      "source": [
        "Generate the AIML  data by  iterating in each  row  in the DF and store the result into  xmlData"
      ]
    },
    {
      "cell_type": "code",
      "metadata": {
        "id": "JtI32O6Y8MW3",
        "colab_type": "code",
        "colab": {}
      },
      "source": [
        "xmlData=''.join(df.apply(GenerateAIMLQuestionCategories, axis=1))\n",
        "xmlData='<?xml version=\"1.0\"?><aiml version = \"1.0.1\" encoding = \"UTF-8\">' +xmlData +'</aiml>'"
      ],
      "execution_count": null,
      "outputs": []
    },
    {
      "cell_type": "code",
      "metadata": {
        "id": "WC1ibw3A0Z1r",
        "colab_type": "code",
        "colab": {
          "base_uri": "https://localhost:8080/",
          "height": 137
        },
        "outputId": "ea9bc44d-3526-4b65-a2be-979f6d16ee84"
      },
      "source": [
        "xmlData"
      ],
      "execution_count": null,
      "outputs": [
        {
          "output_type": "execute_result",
          "data": {
            "application/vnd.google.colaboratory.intrinsic+json": {
              "type": "string"
            },
            "text/plain": [
              "'<?xml version=\"1.0\"?><aiml version = \"1.0.1\" encoding = \"UTF-8\"><category><pattern>COMPUTER TURN</pattern><template>The first thing to do is check the power cord is fully plugged into the wall socket, and it’s switched on (hey, we all make mistakes!). If you’re using a plug strip, then ensure that it’s completely plugged into the wall, and the power strip is turned on.  Some plug strips have built-in circuit breakers (this looks like a black or red button that’s near the power switch). Reset it to see if that turns your computer on.</template></category><category><pattern>* COMPUTER TURN *</pattern><template><srai>COMPUTER TURN</srai></template></category><category><pattern>* COMPUTER TURN</pattern><template><srai>COMPUTER TURN</srai></template></category><category><pattern>COMPUTER TURN *</pattern><template><srai>COMPUTER TURN</srai></template></category><category><pattern>COMPUTER CRASH FIX</pattern><template>Nothing is more annoying than when you’re working hard to get a deadline finished, and your computer suddenly crashes. There are so many reasons as to why your computer may crash or freeze, and you may not know the reason why. Your best bet is to wait a few minutes to see if it sorts itself out and resumes as normal. If it doesn’t, open the Task Manager (Ctrl-Alt-Delete à Task Manager) to see which programme isn’t responding, and close it. If your computer still isn’t working, then restart it.</template></category><category><pattern>* COMPUTER CRASH FIX *</pattern><template><srai>COMPUTER CRASH FIX</srai></template></category><category><pattern>* COMPUTER CRASH FIX</pattern><template><srai>COMPUTER CRASH FIX</srai></template></category><category><pattern>COMPUTER CRASH FIX *</pattern><template><srai>COMPUTER CRASH FIX</srai></template></category><category><pattern>MITIGATE RISK HARD DRIVE DISK FAILURE</pattern><template>Your hard drive will typically store all your files: word docs, videos, photos… if that fails and you don’t have a backup, then it can cause serious issues. Hard drives have a limited lifetime, so firstly it’s important that you always back up your important files. Using Microsoft One Drive, server shares (if you have one), or another cloud-based system means you’ll always have your documents available, should your hard disk one day pack in. Firstly (like with most computer errors), restart your computer, but if you need more help, then feel free to give us a call.</template></category><category><pattern>* MITIGATE RISK HARD DRIVE DISK FAILURE *</pattern><template><srai>MITIGATE RISK HARD DRIVE DISK FAILURE</srai></template></category><category><pattern>* MITIGATE RISK HARD DRIVE DISK FAILURE</pattern><template><srai>MITIGATE RISK HARD DRIVE DISK FAILURE</srai></template></category><category><pattern>MITIGATE RISK HARD DRIVE DISK FAILURE *</pattern><template><srai>MITIGATE RISK HARD DRIVE DISK FAILURE</srai></template></category><category><pattern>MONITOR BLANK</pattern><template>If you’ve stepped away from your computer for a while and you’ve found your screen has turned black, it’s likely just gone into sleep mode. Moving your mouse around will have it back up and running. If that’s not the case, then click the power button on the monitor to see if it’s turned on. You should also check the back of your computer to ensure your monitor and all cables, are properly plugged in.</template></category><category><pattern>* MONITOR BLANK *</pattern><template><srai>MONITOR BLANK</srai></template></category><category><pattern>* MONITOR BLANK</pattern><template><srai>MONITOR BLANK</srai></template></category><category><pattern>MONITOR BLANK *</pattern><template><srai>MONITOR BLANK</srai></template></category><category><pattern>STOP IMAGE SCREEN SKEWED DISTORT</pattern><template>If the cable is loose, then it can result in a distorted image on-screen. Disconnect the video cable at the back of the computer to check that none of the pins are broken, bent or burnt. If they’re all fine, then plug the cable back in. Another cause of a distorted image, is if your monitor’s refresh rate isn’t properly set. Usually, this results in lines going across the monitor, or flickering. You can find this out by heading over to your Settings – just click the Start Button and select Settings if you’re working on Windows 10, or Action Centre on Windows 7. If you’re using a Mac, then click on Window, and then Settings. You should also check that there aren’t any magnetic devices such as fans or speakers directly by your screen, because a magnetic interference could cause a distorted image.</template></category><category><pattern>* STOP IMAGE SCREEN SKEWED DISTORT *</pattern><template><srai>STOP IMAGE SCREEN SKEWED DISTORT</srai></template></category><category><pattern>* STOP IMAGE SCREEN SKEWED DISTORT</pattern><template><srai>STOP IMAGE SCREEN SKEWED DISTORT</srai></template></category><category><pattern>STOP IMAGE SCREEN SKEWED DISTORT *</pattern><template><srai>STOP IMAGE SCREEN SKEWED DISTORT</srai></template></category><category><pattern>SIGNAL INPUT MESSAGE</pattern><template>A “no signal input” message appears when there is no image displayed from your PC to your monitor. If this happens, then first of all, you should check that your monitor is correctly connected to the computer, and no cables are loose. You can do this by disconnecting all cables that are plugged into the back of the monitor. Finally, reconnect all the cables to see if that resolves the issue.</template></category><category><pattern>* SIGNAL INPUT MESSAGE *</pattern><template><srai>SIGNAL INPUT MESSAGE</srai></template></category><category><pattern>* SIGNAL INPUT MESSAGE</pattern><template><srai>SIGNAL INPUT MESSAGE</srai></template></category><category><pattern>SIGNAL INPUT MESSAGE *</pattern><template><srai>SIGNAL INPUT MESSAGE</srai></template></category><category><pattern>RID BLACK BORDERS SCREEN</pattern><template> If you’ve recently changed your screen’s resolution, sometimes the monitor may not auto-adjust to the correct size. If this has happened to you, then you can either change the resolution back to the original setting, or manually adjust the monitor yourself. Adjusting the horizontal or vertical width will usually solve the issue, but it’s worth looking at the monitor guide you received when you purchased your PC, to find the correct way of adjusting it.</template></category><category><pattern>* RID BLACK BORDERS SCREEN *</pattern><template><srai>RID BLACK BORDERS SCREEN</srai></template></category><category><pattern>* RID BLACK BORDERS SCREEN</pattern><template><srai>RID BLACK BORDERS SCREEN</srai></template></category><category><pattern>RID BLACK BORDERS SCREEN *</pattern><template><srai>RID BLACK BORDERS SCREEN</srai></template></category><category><pattern>MOUSE ACTING ERRATICALLY</pattern><template> If you have a desktop computer, then you’re most likely using an optical mechanical mouse; and the most common reason for it acting erratically is because it’s dirty. Clean your mouse with a sanitiser wipe and if it’s still acting erratically, then it’s likely to be defective and will need replacing. To confirm this, plug the mouse into a different computer to see if it behaves in the same way. It may be that the batteries need replacing, so it’s worth replacing them with new ones, to see if your mouse starts working again.</template></category><category><pattern>* MOUSE ACTING ERRATICALLY *</pattern><template><srai>MOUSE ACTING ERRATICALLY</srai></template></category><category><pattern>* MOUSE ACTING ERRATICALLY</pattern><template><srai>MOUSE ACTING ERRATICALLY</srai></template></category><category><pattern>MOUSE ACTING ERRATICALLY *</pattern><template><srai>MOUSE ACTING ERRATICALLY</srai></template></category><category><pattern>MOUSE KEYBOARD STOPPED WORKING</pattern><template>If your mouse or keyboard has stopped working, and it isn’t because it’s frozen, you’ll need to check that they’re connected properly. For wired ones, check they’re plugged in correctly into the computer. If your mouse or computer is wireless, make sure that the dongle is plugged in and that both accessories are switched on. You may also want to check if the batteries need replacing.</template></category><category><pattern>* MOUSE KEYBOARD STOPPED WORKING *</pattern><template><srai>MOUSE KEYBOARD STOPPED WORKING</srai></template></category><category><pattern>* MOUSE KEYBOARD STOPPED WORKING</pattern><template><srai>MOUSE KEYBOARD STOPPED WORKING</srai></template></category><category><pattern>MOUSE KEYBOARD STOPPED WORKING *</pattern><template><srai>MOUSE KEYBOARD STOPPED WORKING</srai></template></category><category><pattern>TURN WINDOW COMPUTER SHUT</pattern><template>Technically you can just shut your computer off by pressing the power button, as opposed to using the Start à Power à Shut down option. However, you should only do this if there’s an issue with your computer and it won’t switch off. We would only advise this as a last resort, because it can cause issues such as data loss. Microsoft created the shut down feature to ensure that a computer goes through all the steps it needs to before turning off. That’s why if you just shut it down using the power button and then restart it, it comes up with a warning saying that your computer didn’t shut down properly.</template></category><category><pattern>* TURN WINDOW COMPUTER SHUT *</pattern><template><srai>TURN WINDOW COMPUTER SHUT</srai></template></category><category><pattern>* TURN WINDOW COMPUTER SHUT</pattern><template><srai>TURN WINDOW COMPUTER SHUT</srai></template></category><category><pattern>TURN WINDOW COMPUTER SHUT *</pattern><template><srai>TURN WINDOW COMPUTER SHUT</srai></template></category><category><pattern>PC SAFE MODE</pattern><template>Safe mode is used when there’s a system-critical problem that interferes with the normal operations of Windows, whilst still allowing it to load. You’ll want to turn safe mode on, so you can do some troubleshooting, and determine what the problem is. Your PC will work in safe mode, but will have limited functionality – you may experience screen resolution issues and won’t have internet access. For Windows 7 – 10 safe mode, press and hold F8 whilst the computer is starting. That should bring up the Windows Advanced Options Menu. Use the arrow key to move down to Safe Mode and then press Enter.</template></category><category><pattern>* PC SAFE MODE *</pattern><template><srai>PC SAFE MODE</srai></template></category><category><pattern>* PC SAFE MODE</pattern><template><srai>PC SAFE MODE</srai></template></category><category><pattern>PC SAFE MODE *</pattern><template><srai>PC SAFE MODE</srai></template></category><category><pattern>MAC SAFE MODE</pattern><template>Safe mode works the same way for Macs as it does for Windows: also referred to as safe boot, it enables you to start your Mac so it can perform checks, whilst preventing certain software from automatically opening. To start your Mac in safe mode, press and hold the shift key as soon as you turn it on. The Apple logo will appear and then you’ll see the login window: at this point, you can release the shift key. To leave safe mode, just restart your Mac.</template></category><category><pattern>* MAC SAFE MODE *</pattern><template><srai>MAC SAFE MODE</srai></template></category><category><pattern>* MAC SAFE MODE</pattern><template><srai>MAC SAFE MODE</srai></template></category><category><pattern>MAC SAFE MODE *</pattern><template><srai>MAC SAFE MODE</srai></template></category><category><pattern>VIRUS MAC</pattern><template>Unfortunately, it’s a myth that Macs are bulletproof against cyber-attacks, and they can get viruses. To help prevent this, as a minimum you should invest in anti-virus software, and ensure your OS is kept up to date at all times.</template></category><category><pattern>* VIRUS MAC *</pattern><template><srai>VIRUS MAC</srai></template></category><category><pattern>* VIRUS MAC</pattern><template><srai>VIRUS MAC</srai></template></category><category><pattern>VIRUS MAC *</pattern><template><srai>VIRUS MAC</srai></template></category><category><pattern>SEND RECEIVE EMAIL</pattern><template>One of the main reasons why you can’t send/receive emails, is because your computer isn’t connected to the internet. If your connection isn’t the issue, then check your email server isn’t encountering any issues – if that’s the case, you’ll need to call us. Another common cause of not being able to send or receive emails, is if your emails are set to the offline mode. Reconnecting is simple: just click on the Send/Receive tab, and check if the Work Offline button is shaded. If so, you will need to click it to get your email back online.</template></category><category><pattern>* SEND RECEIVE EMAIL *</pattern><template><srai>SEND RECEIVE EMAIL</srai></template></category><category><pattern>* SEND RECEIVE EMAIL</pattern><template><srai>SEND RECEIVE EMAIL</srai></template></category><category><pattern>SEND RECEIVE EMAIL *</pattern><template><srai>SEND RECEIVE EMAIL</srai></template></category><category><pattern>UNABLE RECEIVE EMAIL ATTACHMENT</pattern><template> If your inbox is full, then you won’t be able to receive any attachments that are sent, so the first step is to delete any emails you no longer need. If you’re not receiving attachments because your inbox is full, then the sender will usually receive a notification, so they’re aware you haven’t received it. Alternatively, the sender may have attached a file that’s too big, which is why you can’t receive it. You may also be using security software such as Mimecast, which will quarantine any spam or suspicious looking emails. Take a look at your On Hold or Junk messages to see if your emails have been blocked under one of these policies.</template></category><category><pattern>* UNABLE RECEIVE EMAIL ATTACHMENT *</pattern><template><srai>UNABLE RECEIVE EMAIL ATTACHMENT</srai></template></category><category><pattern>* UNABLE RECEIVE EMAIL ATTACHMENT</pattern><template><srai>UNABLE RECEIVE EMAIL ATTACHMENT</srai></template></category><category><pattern>UNABLE RECEIVE EMAIL ATTACHMENT *</pattern><template><srai>UNABLE RECEIVE EMAIL ATTACHMENT</srai></template></category><category><pattern>FIX PAPER JAM</pattern><template> If the paper has jammed, then the first thing you need to do is turn the printer off. If you can visibly see the paper, then manually remove it – being careful you don’t tear it. You should also open the printer door to see if there is any more paper that’s stuck inside. Once you’ve removed all of it, you should be able to turn the printer back on and use it again. Following the instructions on the printer display should usually get you back up and running.</template></category><category><pattern>* FIX PAPER JAM *</pattern><template><srai>FIX PAPER JAM</srai></template></category><category><pattern>* FIX PAPER JAM</pattern><template><srai>FIX PAPER JAM</srai></template></category><category><pattern>FIX PAPER JAM *</pattern><template><srai>FIX PAPER JAM</srai></template></category><category><pattern>CLEAR PRINT QUEUE</pattern><template>A print queue is a list of all documents that are scheduled to be printed, and you’ll want to clear this if you no longer want to print all of the documents. To clear your print queue, simply locate your printer settings, and right click on the correct printer. You’ll then see a list of all documents, which you can then right click and cancel.</template></category><category><pattern>* CLEAR PRINT QUEUE *</pattern><template><srai>CLEAR PRINT QUEUE</srai></template></category><category><pattern>* CLEAR PRINT QUEUE</pattern><template><srai>CLEAR PRINT QUEUE</srai></template></category><category><pattern>CLEAR PRINT QUEUE *</pattern><template><srai>CLEAR PRINT QUEUE</srai></template></category><category><pattern>CONNECT COMPANY DRIVE HOME</pattern><template>All you need to do is connect to your company’s VPN, in order to view all of the same files as you would when connected to the company network. You will need to check about the SSL VPN access – this could be through a terminal server, or cloud services such as Microsoft One Drive or Google Drive, depending on what your company prefers. To find your computer’s name, go to your Control panel click on System. When the window opens, you will see your Computer Name under the Computer name, domain and workgroup settings. If you’re an Air-IT client, you can also find out your computer name by logging into the Air-IT Service Hub, and clicking on your profile in the top right-hand corner of your dashboard. Here, you’ll see your internet access details and machine name.</template></category><category><pattern>* CONNECT COMPANY DRIVE HOME *</pattern><template><srai>CONNECT COMPANY DRIVE HOME</srai></template></category><category><pattern>* CONNECT COMPANY DRIVE HOME</pattern><template><srai>CONNECT COMPANY DRIVE HOME</srai></template></category><category><pattern>CONNECT COMPANY DRIVE HOME *</pattern><template><srai>CONNECT COMPANY DRIVE HOME</srai></template></category><category><pattern>DELETE COOKIE</pattern><template>If you’re on Google Chrome, to delete your cookies you should click on the three dots in the right-hand corner, then Settings and Advanced. Under Privacy and Security, click on Content Settings à Cookies. You can then click Remove All under All Cookies and Site Data, and confirm by clicking Clear All. If you’re using Internet Explorer, then click on Tools à Internet Options, then navigate to the General tab and click Delete under Browsing History. You’ll need to ensure that you check Cookies before deleting, to ensure they’re all cleared. If you’re using Microsoft Edge, then click the three dots, then Settings à Choose What to Clear. Click on the Cookies and Saved Website Data box, and then clear it.</template></category><category><pattern>* DELETE COOKIE *</pattern><template><srai>DELETE COOKIE</srai></template></category><category><pattern>* DELETE COOKIE</pattern><template><srai>DELETE COOKIE</srai></template></category><category><pattern>DELETE COOKIE *</pattern><template><srai>DELETE COOKIE</srai></template></category><category><pattern>DELETE BROWSER HISTORY</pattern><template>If you’re using Google Chrome, click on More and History, then click on Clear Browsing Data on the left-hand side. If you want to clear everything, then select the beginning of time. For Internet Explorer, select Tools à Safety à Delete, and then select how far back you’d like to delete your browser history. Microsoft Edge works similarly too: to view your browsing history, select Hub à History à Clear all History.</template></category><category><pattern>* DELETE BROWSER HISTORY *</pattern><template><srai>DELETE BROWSER HISTORY</srai></template></category><category><pattern>* DELETE BROWSER HISTORY</pattern><template><srai>DELETE BROWSER HISTORY</srai></template></category><category><pattern>DELETE BROWSER HISTORY *</pattern><template><srai>DELETE BROWSER HISTORY</srai></template></category><category><pattern>BROWSE PRIVATE INCOGNITO MODE</pattern><template>You may decide to use incognito mode for various reasons: it keeps your browsing activities private from other users, will automatically delete your history, and you won’t pick up any cookies either. If you’re using Chrome, select the More button (3 dots in the top right hand side), and select New Incognito Window. For Internet Explorer, click on the gear icon in the top right-hand corner, then Safetyà InPrivate Browsing. Alternatively, press Ctrl+Shift+P to open a private tab, just like you would if you were using Microsoft Edge.</template></category><category><pattern>* BROWSE PRIVATE INCOGNITO MODE *</pattern><template><srai>BROWSE PRIVATE INCOGNITO MODE</srai></template></category><category><pattern>* BROWSE PRIVATE INCOGNITO MODE</pattern><template><srai>BROWSE PRIVATE INCOGNITO MODE</srai></template></category><category><pattern>BROWSE PRIVATE INCOGNITO MODE *</pattern><template><srai>BROWSE PRIVATE INCOGNITO MODE</srai></template></category><category><pattern>CHANGE DEFAULT BROWSER</pattern><template>To make Chrome your default browser, open Chrome, then click More à Settings. You can then amend to Chrome under the Default Browser section. Alternatively if you’re using Windows 10, by clicking Start à Default App Settings. You can then choose Microsoft Edge, Google Chrome or Internet Explorer as your default browser.</template></category><category><pattern>* CHANGE DEFAULT BROWSER *</pattern><template><srai>CHANGE DEFAULT BROWSER</srai></template></category><category><pattern>* CHANGE DEFAULT BROWSER</pattern><template><srai>CHANGE DEFAULT BROWSER</srai></template></category><category><pattern>CHANGE DEFAULT BROWSER *</pattern><template><srai>CHANGE DEFAULT BROWSER</srai></template></category><category><pattern>SET HOMEPAGE CHOICE</pattern><template>If you’re using Internet Explorer, type in your desired homepage, then click on Toolbar à Tools à Internet Options. A pop-up will open, and you’ll see a Homepage box, with the current URL listed. Click on Use Current to specify that this is the page you want to use. For Google Chrome, click on the three dots on the top right-hand corner, then Options and Basics. You can then set your preferred homepage. For Microsoft Edge, simply click More à Settings, and scroll down to View Advanced Settings. Click Show the Home Button, then type the URL of your desired homepage, and click Save.</template></category><category><pattern>* SET HOMEPAGE CHOICE *</pattern><template><srai>SET HOMEPAGE CHOICE</srai></template></category><category><pattern>* SET HOMEPAGE CHOICE</pattern><template><srai>SET HOMEPAGE CHOICE</srai></template></category><category><pattern>SET HOMEPAGE CHOICE *</pattern><template><srai>SET HOMEPAGE CHOICE</srai></template></category><category><pattern>SAVE FAVOURITES BOOKMARKS</pattern><template>Favourites and Bookmarks are the same thing, it just depends which browser you use, as to what they’re called. To save a URL as a bookmark in Chrome, click on the three dots on your chosen page, Bookmarks à Bookmark this page. For Internet Explorer, click on Favourites à Add to Favourites; and for Microsoft Edge, click the star on the top right corner, then you can choose to add the URL to either your favourites section, or reading list.</template></category><category><pattern>* SAVE FAVOURITES BOOKMARKS *</pattern><template><srai>SAVE FAVOURITES BOOKMARKS</srai></template></category><category><pattern>* SAVE FAVOURITES BOOKMARKS</pattern><template><srai>SAVE FAVOURITES BOOKMARKS</srai></template></category><category><pattern>SAVE FAVOURITES BOOKMARKS *</pattern><template><srai>SAVE FAVOURITES BOOKMARKS</srai></template></category><category><pattern>CLEAR PASSWORD HISTORY</pattern><template> If you want to clear your password history on Chrome, then click on the three dots in the right-hand corner, and Settings. By clicking on Show Advanced Settings, you can manage your passwords and delete any saved passwords. For Internet Explorer, click on Tools à Internet Options à Content. Under AutoComplete, you can then click Settings à Manage Passwords à Web Credentials Manager. Click on the drop-down arrow by the website you want to remove the password on, then click Remove. If you’re using Microsoft Edge, then click on More Actions à Settings à Advanced Settings. Scroll down to Manage my Saved Passwords, then select which passwords you’d like to delete.</template></category><category><pattern>* CLEAR PASSWORD HISTORY *</pattern><template><srai>CLEAR PASSWORD HISTORY</srai></template></category><category><pattern>* CLEAR PASSWORD HISTORY</pattern><template><srai>CLEAR PASSWORD HISTORY</srai></template></category><category><pattern>CLEAR PASSWORD HISTORY *</pattern><template><srai>CLEAR PASSWORD HISTORY</srai></template></category><category><pattern>TURN PRESENTATION MODE</pattern><template>Turning the Presentation mode on is easy: just hit F5 on your keyboard, or select Slide Show à From Beginning. To turn it off, just right click with your mouse and hit End.</template></category><category><pattern>* TURN PRESENTATION MODE *</pattern><template><srai>TURN PRESENTATION MODE</srai></template></category><category><pattern>* TURN PRESENTATION MODE</pattern><template><srai>TURN PRESENTATION MODE</srai></template></category><category><pattern>TURN PRESENTATION MODE *</pattern><template><srai>TURN PRESENTATION MODE</srai></template></category><category><pattern>RETRIEVE UNSAVED FILE</pattern><template>To retrieve a document, click on File à Recent, then scroll down to Recent Documents.\\nWord documents: Recover Unsaved Documents\\nExcel: Recover Unsaved Workbooks\\nPowerPoint: Recover Unsaved Presentations\\nYou will then find a list of unsaved files – select the file you want, open it and Save As. Tip: Use Ctrl + S to save changes to your documents regularly.</template></category><category><pattern>* RETRIEVE UNSAVED FILE *</pattern><template><srai>RETRIEVE UNSAVED FILE</srai></template></category><category><pattern>* RETRIEVE UNSAVED FILE</pattern><template><srai>RETRIEVE UNSAVED FILE</srai></template></category><category><pattern>RETRIEVE UNSAVED FILE *</pattern><template><srai>RETRIEVE UNSAVED FILE</srai></template></category><category><pattern>TURN MACROS</pattern><template>Excel macros can be ideal because they can automate common, repetitive tasks. However, you may want to turn them off. To do this, click on File à Options à Trust Centre à Trust Centre Settings. You can then click on Macro Settings, and choose to disable your macros. It works similarly if you want to disable macros in Word too: click Office à Word Options à OK, and then manually remove the macros you don’t want. Please note, you should not enable macros in any documents you receive by email, as these can be used to run and install malicious software, which could cause your PC to be infected with a virus.</template></category><category><pattern>* TURN MACROS *</pattern><template><srai>TURN MACROS</srai></template></category><category><pattern>* TURN MACROS</pattern><template><srai>TURN MACROS</srai></template></category><category><pattern>TURN MACROS *</pattern><template><srai>TURN MACROS</srai></template></category><category><pattern>DISABLE ADD INS</pattern><template>You can enable Add-Ins in Word, Excel and PowerPoint to add custom commands and features. However, you may decide to disable these if you don’t need them anymore. To do this, click on File à Options à Add-Ins, then click on Manage à Go. A dialogue box will open, allowing you to select the add-ins you want to disable or remove.</template></category><category><pattern>* DISABLE ADD INS *</pattern><template><srai>DISABLE ADD INS</srai></template></category><category><pattern>* DISABLE ADD INS</pattern><template><srai>DISABLE ADD INS</srai></template></category><category><pattern>DISABLE ADD INS *</pattern><template><srai>DISABLE ADD INS</srai></template></category><category><pattern>ADD SHORTCUT DESKTOP</pattern><template>Adding a shortcut to your desktop is simple: just right click on your chosen file, then click Send to à Desktop. Alternatively, right click anywhere on your desktop and select New then Shortcut, and browse to your chosen file or destination.</template></category><category><pattern>* ADD SHORTCUT DESKTOP *</pattern><template><srai>ADD SHORTCUT DESKTOP</srai></template></category><category><pattern>* ADD SHORTCUT DESKTOP</pattern><template><srai>ADD SHORTCUT DESKTOP</srai></template></category><category><pattern>ADD SHORTCUT DESKTOP *</pattern><template><srai>ADD SHORTCUT DESKTOP</srai></template></category><category><pattern>KNOW PC DATE</pattern><template>Operating systems should be set to automatically update, so this is taken care of for you. Some companies will enforce this as a policy in which case you will see a message to let you know this is managed by a system administrator. Please note that platforms including Windows XP and Vista aren’t supported. If you’re a client with Air-IT, we’ll manage supported operating systems for you.</template></category><category><pattern>* KNOW PC DATE *</pattern><template><srai>KNOW PC DATE</srai></template></category><category><pattern>* KNOW PC DATE</pattern><template><srai>KNOW PC DATE</srai></template></category><category><pattern>KNOW PC DATE *</pattern><template><srai>KNOW PC DATE</srai></template></category><category><pattern>ACCESS SNIP TOOL</pattern><template>The Snipping Tool can be very useful, as it enables you to capture a section of your screen, whether you’re on a web page, document or more, and save it as an image. It’s much more user-friendly than just print screening, as you can pick which area of the page you want to save, instead of just what’s visible. To access your snipping tool, click Start à Windows. Type Snipping Tool in the search box, and then click on it to open. You can find out more about how to use the Snipping Tool here. How Do I Lock My Computer? Click Ctrl+Alt+Delete and Lock. When you want to unlock your computer, just type in your password. On Windows, you can also press the Windows key and L for easy access.</template></category><category><pattern>* ACCESS SNIP TOOL *</pattern><template><srai>ACCESS SNIP TOOL</srai></template></category><category><pattern>* ACCESS SNIP TOOL</pattern><template><srai>ACCESS SNIP TOOL</srai></template></category><category><pattern>ACCESS SNIP TOOL *</pattern><template><srai>ACCESS SNIP TOOL</srai></template></category><category><pattern>CHANGE KEYBOARD LANGUAGE</pattern><template>If you’re using Windows 7, click on the Keyboard &amp; Languages tab under Start, then Change Keyboards à Add à Add Input Language; then select the language you’d like to use, and click OK. You change this slightly differently on Windows 10: press and hold the Windows key, then press the spacebar. Pressing space multiple times will show you the various options you have – highlight the keyboard language you want. If you’re using a Mac, then click on the Apple Menu and System Preferences. From there, click Keyboard à Input Sources à +, then select your chosen language.</template></category><category><pattern>* CHANGE KEYBOARD LANGUAGE *</pattern><template><srai>CHANGE KEYBOARD LANGUAGE</srai></template></category><category><pattern>* CHANGE KEYBOARD LANGUAGE</pattern><template><srai>CHANGE KEYBOARD LANGUAGE</srai></template></category><category><pattern>CHANGE KEYBOARD LANGUAGE *</pattern><template><srai>CHANGE KEYBOARD LANGUAGE</srai></template></category><category><pattern>RESTORE FILE RECYCLE BIN</pattern><template>Open your recycle bin to find all of your deleted files. To restore the files you want, simply right click on it, and select Restore.</template></category><category><pattern>* RESTORE FILE RECYCLE BIN *</pattern><template><srai>RESTORE FILE RECYCLE BIN</srai></template></category><category><pattern>* RESTORE FILE RECYCLE BIN</pattern><template><srai>RESTORE FILE RECYCLE BIN</srai></template></category><category><pattern>RESTORE FILE RECYCLE BIN *</pattern><template><srai>RESTORE FILE RECYCLE BIN</srai></template></category></aiml>'"
            ]
          },
          "metadata": {
            "tags": []
          },
          "execution_count": 18
        }
      ]
    },
    {
      "cell_type": "markdown",
      "metadata": {
        "id": "RqUyXeJcMCZa",
        "colab_type": "text"
      },
      "source": [
        "Save the XML (.aiml) file into  file  called ITFAQ.aiml  to be used with  chatbot"
      ]
    },
    {
      "cell_type": "code",
      "metadata": {
        "id": "wUK6Wk55HRpQ",
        "colab_type": "code",
        "colab": {}
      },
      "source": [
        "from xml.etree import ElementTree as ET\n",
        "tree = ET.XML(xmlData)\n",
        "with open(\"ITFAQ.aiml\", \"wb\") as f:\n",
        "    f.write(ET.tostring(tree))"
      ],
      "execution_count": null,
      "outputs": []
    },
    {
      "cell_type": "markdown",
      "metadata": {
        "id": "QWqABO53xIbC",
        "colab_type": "text"
      },
      "source": [
        "#Testing"
      ]
    },
    {
      "cell_type": "code",
      "metadata": {
        "id": "2SjSOH4AxH-c",
        "colab_type": "code",
        "colab": {
          "base_uri": "https://localhost:8080/",
          "height": 222
        },
        "outputId": "54ad04f1-0047-4c69-fae7-bab5788fafbe"
      },
      "source": [
        "%pip install python-aiml"
      ],
      "execution_count": null,
      "outputs": [
        {
          "output_type": "stream",
          "text": [
            "Collecting python-aiml\n",
            "\u001b[?25l  Downloading https://files.pythonhosted.org/packages/93/fd/c4a380d4f4adedcbeddd4262edc510ef6e01898e0f4b82cb66267a27cc66/python-aiml-0.9.3.zip (2.1MB)\n",
            "\u001b[K     |████████████████████████████████| 2.2MB 2.6MB/s \n",
            "\u001b[?25hRequirement already satisfied: setuptools in /usr/local/lib/python3.6/dist-packages (from python-aiml) (49.6.0)\n",
            "Building wheels for collected packages: python-aiml\n",
            "  Building wheel for python-aiml (setup.py) ... \u001b[?25l\u001b[?25hdone\n",
            "  Created wheel for python-aiml: filename=python_aiml-0.9.3-cp36-none-any.whl size=2122479 sha256=d1e7334f580eafb1493f5db75d3435f2fcebad08b488b976226d2e6b7909283c\n",
            "  Stored in directory: /root/.cache/pip/wheels/96/e4/6a/1d8151d271e060753a0843dcf7d78041d4456b0588a71728bc\n",
            "Successfully built python-aiml\n",
            "Installing collected packages: python-aiml\n",
            "Successfully installed python-aiml-0.9.3\n"
          ],
          "name": "stdout"
        }
      ]
    },
    {
      "cell_type": "code",
      "metadata": {
        "id": "HQhy0B5IxPJR",
        "colab_type": "code",
        "colab": {}
      },
      "source": [
        "import aiml"
      ],
      "execution_count": null,
      "outputs": []
    },
    {
      "cell_type": "code",
      "metadata": {
        "id": "kAXpA6pgxUQB",
        "colab_type": "code",
        "colab": {
          "base_uri": "https://localhost:8080/",
          "height": 50
        },
        "outputId": "eb9f6014-289a-4dcc-a1de-ba9c59122eac"
      },
      "source": [
        "kernel =aiml.Kernel()\n",
        "kernel.bootstrap(learnFiles=['/content/ITFAQ.aiml'])"
      ],
      "execution_count": null,
      "outputs": [
        {
          "output_type": "stream",
          "text": [
            "Loading /content/ITFAQ.aiml...done (0.01 seconds)\n",
            "Kernel bootstrap completed in 0.02 seconds\n"
          ],
          "name": "stdout"
        }
      ]
    },
    {
      "cell_type": "code",
      "metadata": {
        "id": "ns5m7C1WH8xs",
        "colab_type": "code",
        "colab": {}
      },
      "source": [
        "testQuestion1='How Do I Retrieve an Unsaved File?'\n",
        "testQuestion2='Hi, How Do I Retrieve an Unsaved File?'\n",
        "testQuestion3='Hi, How Do I Retrieve an Unsaved File? if you please? salam'\n",
        "testQuestion4='Hi, How Do I Retrieve an Unsaved File?'"
      ],
      "execution_count": null,
      "outputs": []
    },
    {
      "cell_type": "code",
      "metadata": {
        "id": "WlGaEoY2IkpJ",
        "colab_type": "code",
        "colab": {
          "base_uri": "https://localhost:8080/",
          "height": 84
        },
        "outputId": "921c5c1f-b026-4167-b694-36c709979156"
      },
      "source": [
        "processedQuestion1=ProcessText(testQuestion1)\n",
        "print(processedQuestion1)\n",
        "processedQuestion2=ProcessText(testQuestion2)\n",
        "print(processedQuestion2)\n",
        "processedQuestion3=ProcessText(testQuestion3)\n",
        "print(processedQuestion3)\n",
        "processedQuestion4=ProcessText(testQuestion4)\n",
        "print(processedQuestion4)"
      ],
      "execution_count": null,
      "outputs": [
        {
          "output_type": "stream",
          "text": [
            "RETRIEVE UNSAVED FILE\n",
            "HI RETRIEVE UNSAVED FILE\n",
            "HI RETRIEVE UNSAVED FILE SALAM\n",
            "HI RETRIEVE UNSAVED FILE\n"
          ],
          "name": "stdout"
        }
      ]
    },
    {
      "cell_type": "code",
      "metadata": {
        "id": "AIdDk4yRIs6K",
        "colab_type": "code",
        "colab": {
          "base_uri": "https://localhost:8080/",
          "height": 69
        },
        "outputId": "234f55c3-514b-4d77-96dc-70cd6f6fcbbc"
      },
      "source": [
        "kernel.respond(processedQuestion1)"
      ],
      "execution_count": null,
      "outputs": [
        {
          "output_type": "execute_result",
          "data": {
            "application/vnd.google.colaboratory.intrinsic+json": {
              "type": "string"
            },
            "text/plain": [
              "'To retrieve a document, click on File à Recent, then scroll down to Recent Documents. Word documents: Recover Unsaved Documents Excel: Recover Unsaved Workbooks PowerPoint: Recover Unsaved Presentations You will then find a list of unsaved files – select the file you want, open it and Save As. Tip: Use Ctrl + S to save changes to your documents regularly.'"
            ]
          },
          "metadata": {
            "tags": []
          },
          "execution_count": 25
        }
      ]
    },
    {
      "cell_type": "code",
      "metadata": {
        "id": "-p0_uzw9Jf2X",
        "colab_type": "code",
        "colab": {
          "base_uri": "https://localhost:8080/",
          "height": 69
        },
        "outputId": "80301142-f9d5-461c-f677-b8215bf95aed"
      },
      "source": [
        "kernel.respond(processedQuestion2)"
      ],
      "execution_count": null,
      "outputs": [
        {
          "output_type": "execute_result",
          "data": {
            "application/vnd.google.colaboratory.intrinsic+json": {
              "type": "string"
            },
            "text/plain": [
              "'To retrieve a document, click on File à Recent, then scroll down to Recent Documents. Word documents: Recover Unsaved Documents Excel: Recover Unsaved Workbooks PowerPoint: Recover Unsaved Presentations You will then find a list of unsaved files – select the file you want, open it and Save As. Tip: Use Ctrl + S to save changes to your documents regularly.'"
            ]
          },
          "metadata": {
            "tags": []
          },
          "execution_count": 26
        }
      ]
    },
    {
      "cell_type": "code",
      "metadata": {
        "id": "TE1bNArrLRMN",
        "colab_type": "code",
        "colab": {
          "base_uri": "https://localhost:8080/",
          "height": 69
        },
        "outputId": "40a27ef9-781d-46ac-c4c1-33356b7a64a4"
      },
      "source": [
        "kernel.respond(processedQuestion3)"
      ],
      "execution_count": null,
      "outputs": [
        {
          "output_type": "execute_result",
          "data": {
            "application/vnd.google.colaboratory.intrinsic+json": {
              "type": "string"
            },
            "text/plain": [
              "'To retrieve a document, click on File à Recent, then scroll down to Recent Documents. Word documents: Recover Unsaved Documents Excel: Recover Unsaved Workbooks PowerPoint: Recover Unsaved Presentations You will then find a list of unsaved files – select the file you want, open it and Save As. Tip: Use Ctrl + S to save changes to your documents regularly.'"
            ]
          },
          "metadata": {
            "tags": []
          },
          "execution_count": 27
        }
      ]
    }
  ]
}